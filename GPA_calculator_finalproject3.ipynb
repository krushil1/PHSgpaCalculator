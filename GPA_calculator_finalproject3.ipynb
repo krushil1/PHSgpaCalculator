{
  "nbformat": 4,
  "nbformat_minor": 0,
  "metadata": {
    "colab": {
      "name": "GPA calculator finalproject3.ipynb",
      "provenance": [],
      "collapsed_sections": [],
      "include_colab_link": true
    },
    "kernelspec": {
      "name": "python3",
      "display_name": "Python 3"
    }
  },
  "cells": [
    {
      "cell_type": "markdown",
      "metadata": {
        "id": "view-in-github",
        "colab_type": "text"
      },
      "source": [
        "<a href=\"https://colab.research.google.com/github/krushil1/PHSgpaCalculator/blob/master/GPA_calculator_finalproject3.ipynb\" target=\"_parent\"><img src=\"https://colab.research.google.com/assets/colab-badge.svg\" alt=\"Open In Colab\"/></a>"
      ]
    },
    {
      "cell_type": "code",
      "metadata": {
        "id": "XkPbdgvggO_d",
        "colab_type": "code",
        "outputId": "227cd107-5917-4ec6-d562-acbf3e1a528d",
        "colab": {
          "base_uri": "https://localhost:8080/",
          "height": 246
        }
      },
      "source": [
        "#Krushil Amrutiya\n",
        "\n",
        "# This is the dictionary of grade weights at PHS\n",
        "# Set up grade weight dictionary\n",
        "std_weight={\"A+\":4.00,\"A\":4.00,\"A-\":3.67,\"B+\":3.33,\"B\":3.00,\"B-\":2.67,\"C+\":2.33,\"C\":2.00,\"C-\":1.67,\"D\":1.00,\"F\":0.00}\n",
        "hnrs_weight={\"A+\":4.50,\"A\":4.50,\"A-\":4.17,\"B+\":3.83,\"B\":3.50,\"B-\":3.17,\"C+\":2.83,\"C\":2.50,\"C-\":2.17,\"D\":1.00,\"F\":0.00}\n",
        "ap_weight={\"A+\":5.00,\"A\":5.00,\"A-\":4.67,\"B+\":4.33,\"B\":4.00,\"B-\":3.67,\"C+\":3.33,\"C\":3.00,\"C-\":2.67,\"D\":1.00,\"F\":0.00} \n",
        "\n",
        "coursenum = 0\n",
        "grade = \"\"\n",
        "qualitypoints = 0\n",
        "category = \"\" \n",
        "totalcredit = 0 \n",
        "gpa = 0 \n",
        "\n",
        "#print statements for the user\n",
        "print(\"This program will calculate a GPA using the Parkland School District grading scale\")\n",
        "print(\"You must know the grade, number of credits, and course catgory for each course\")\n",
        "print(\"When you are done entering courses, you should type DONE.\")\n",
        "\n",
        "#while loop runs untill the users has not entered done\n",
        "while grade != \"DONE\":\n",
        "  #course input\n",
        "  coursenum = int(input(\"Course number: \"))\n",
        "  #grade input\n",
        "  grade = input(\"What grade did you get in the course(A+, A, A-, B+, B, B-, C+, C, C-, D, F)? \") \n",
        "  #turns grade input into upper case\n",
        "  grade = grade.upper()\n",
        "  \n",
        "  #if statement if user enters done to end the program\n",
        "  if grade != \"DONE\":\n",
        "    credits = 0\n",
        "    #category input for the user\n",
        "    category = input(\"What category is the course? Type S -> Standard, H -> Honors, A -> AP \")\n",
        "    #credit input for the user\n",
        "    credits = float(input(\"Enter the number of credits the course is worth.\"))\n",
        "    category = category.upper()\n",
        "    totalcredit += credits\n",
        "    \n",
        "    #if and else if statements to decide which dictionary to use to add qualitypoints\n",
        "    if category == \"S\":\n",
        "      qualitypoints += std_weight[grade] * credits\n",
        "    elif category == \"H\":\n",
        "      qualitypoints += hnrs_weight[grade] * credits\n",
        "    elif category == \"A\":\n",
        "      qualitypoints += ap_weight[grade] * credits\n",
        "      \n",
        "#takes quality points and divides it by totalcredit for gpa      \n",
        "gpa = qualitypoints/float(totalcredit)     \n",
        "  \n",
        "#the output for the user if they type done\n",
        "print(\"Quality Points:\", qualitypoints)\n",
        "print(\"Total Credits:\", totalcredit)\n",
        "print(\"Your GPA for these\", coursenum, \"courses is:\", round(gpa, 2))\n",
        "\n",
        "\n",
        "\n",
        "\n",
        "\n",
        "\n"
      ],
      "execution_count": 0,
      "outputs": [
        {
          "output_type": "stream",
          "text": [
            "This program will calculate a GPA using the Parkland School District grading scale\n",
            "You must know the grade, number of credits, and course catgory for each course\n",
            "When you are done entering courses, you should type DONE.\n",
            "Course number: 1\n",
            "What grade did you get in the course(A+, A, A-, B+, B, B-, C+, C, C-, D, F)? a+\n",
            "What category is the course? Type S -> Standard, H -> Honors, A -> AP h\n",
            "Enter the number of credits the course is worth..5\n",
            "Course number: 2\n",
            "What grade did you get in the course(A+, A, A-, B+, B, B-, C+, C, C-, D, F)? done\n",
            "Quality Points: 2.25\n",
            "Total Credits: 0.5\n",
            "Your GPA for these 2 courses is: 4.5\n"
          ],
          "name": "stdout"
        }
      ]
    }
  ]
}